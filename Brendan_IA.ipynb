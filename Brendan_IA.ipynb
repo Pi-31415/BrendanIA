{
  "nbformat": 4,
  "nbformat_minor": 0,
  "metadata": {
    "colab": {
      "name": "Brendan_IA.ipynb",
      "provenance": [],
      "collapsed_sections": []
    },
    "kernelspec": {
      "name": "python3",
      "display_name": "Python 3"
    },
    "language_info": {
      "name": "python"
    }
  },
  "cells": [
    {
      "cell_type": "code",
      "metadata": {
        "id": "kJEtsQa2xbkQ"
      },
      "source": [
        "# First, Click on the run button (triangle) on the left only once\n",
        "!git clone \"https://github.com/Pi-31415/BrendanIA\"  \n",
        "%cd BrendanIA\n",
        "%ls\n",
        "%mkdir data\n",
        "%pip install -r requirements.txt  # install dependencies"
      ],
      "execution_count": null,
      "outputs": []
    },
    {
      "cell_type": "code",
      "metadata": {
        "id": "C6GmgjLxzCyL"
      },
      "source": [
        "# After running the top block, click on the run button (triangle) on the whenever you want to try out a new note combination\n",
        "# Scroll down to see the results, you can download them\n",
        "\"\"\"\n",
        "Consonance and dissonance in music.\n",
        "@author: Brendan\n",
        "\"\"\"\n",
        "import numpy as np\n",
        "from scipy.io import wavfile\n",
        "import matplotlib.pyplot as plt\n",
        "plt.style.use('seaborn-dark')\n",
        "import pianoutil as utils\n",
        "from IPython.display import Audio\n",
        "from IPython.utils import io\n",
        "\n",
        "Amplitude = 2048\n",
        "# Lower the following graph width if the graph looks too messy\n",
        "graph_width = 500\n",
        "# To change your notes, change the following values of note1 and note 2\n",
        "# For ordinary note, type a capital letter followed by number (e.g. C5 for middle C)\n",
        "# For accidentals, type a # in between (e.g. A#5)\n",
        "# Note that there is no E# and B#.\n",
        "note1 = 'C5'\n",
        "note2 = 'G#5'\n",
        "\n",
        "note_freqs = utils.get_piano_notes()\n",
        "\n",
        "##############################################################################\n",
        "# Graphing and Audio Generation begins here\n",
        "##############################################################################\n",
        "note1_original = note1\n",
        "note2_original = note2\n",
        "\n",
        "if(note1.__contains__('#')):\n",
        "  note1 = note1.lower()\n",
        "  note1 = note1.replace(\"#\",\"\")\n",
        "\n",
        "if(note2.__contains__('#')):\n",
        "  note2 = note2.lower()\n",
        "  note2 = note2.replace(\"#\",\"\")\n",
        "\n",
        "track1 = utils.get_sine_wave(note_freqs[note1], 2, amplitude=Amplitude)  \n",
        "track2 = utils.get_sine_wave(note_freqs[note2], 2, amplitude=Amplitude) \n",
        "wavfile.write('data/'+note1+'_'+note2+'.wav', rate=44100, data=((track1+track2)/2).astype(np.int16))\n",
        "\n",
        "display(Audio('data/'+note1+'_'+note2+'.wav', rate=44100))\n",
        "\n",
        "plt.figure(figsize=(12,4))\n",
        "plt.plot(track1[:graph_width], label=note1_original+\" (\"+str(round(note_freqs[note1],2))+ \" Hz)\")\n",
        "plt.plot(track2[:graph_width], label=note2_original+\" (\"+str(round(note_freqs[note2],2))+ \" Hz)\")\n",
        "plt.plot((track1+track2)[:graph_width], label='Superposition')\n",
        "plt.xlabel('Time ( 10^(-5) seconds)')\n",
        "plt.ylabel('Amplitude (Arbitrary Units)')\n",
        "plt.title('Superposition of '+note1_original+\" (\"+str(round(note_freqs[note1],2))+ \" Hz)\"+' and '+note2_original +\" (\"+str(round(note_freqs[note2],2))+ \" Hz)\")\n",
        "plt.grid()\n",
        "plt.legend()\n",
        "plt.savefig('data/'+note1+'_'+note2+'.jpg')\n",
        "\n",
        "# The audio file and the graph should be generated below, you can download the audio file and save the graph\n",
        "\n"
      ],
      "execution_count": null,
      "outputs": []
    }
  ]
}